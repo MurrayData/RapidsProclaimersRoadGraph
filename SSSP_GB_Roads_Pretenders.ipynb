{
 "cells": [
  {
   "cell_type": "code",
   "execution_count": 2,
   "metadata": {},
   "outputs": [],
   "source": [
    "# Import needed libraries\n",
    "import cugraph\n",
    "import cudf\n",
    "from collections import OrderedDict"
   ]
  },
  {
   "cell_type": "markdown",
   "metadata": {},
   "source": [
    "### Test Data\n",
    "We will be using the Ordnance Survey Open Roads dataset converted into a graph.  \n",
    "A sample is shown below:\n",
    "\n",
    "![Road_Graph](./img/road_graph.png)\n",
    "\n",
    "This is a weighted graph, using the edge distance in metres.  \n",
    "__Note__: The Open Roads dataset starts with vertex ID 1 which the cuGraph analytics assume a zero-based starting ID.  \n",
    "*Contains OS data © Crown copyright and database right (2019)*  \n",
    "Licensed under [Open Government Licence (OGL) V3](http://www.nationalarchives.gov.uk/doc/open-government-licence/version/3/)"
   ]
  },
  {
   "cell_type": "markdown",
   "metadata": {},
   "source": [
    "### Read the source data and adjust the vertex IDs"
   ]
  },
  {
   "cell_type": "code",
   "execution_count": 3,
   "metadata": {},
   "outputs": [],
   "source": [
    "# Test file  - Read OS Open Roads as a graph. (Store dataset in ./data folder)\n",
    "datafile='./data/gb_road_graph_20190523.csv'"
   ]
  },
  {
   "cell_type": "code",
   "execution_count": 8,
   "metadata": {},
   "outputs": [],
   "source": [
    "# Read the data file with lenght of edge in metres as weight\n",
    "cols = [\"src\", \"dst\",\"length\"]\n",
    "\n",
    "dtypes = OrderedDict([\n",
    "        (\"src\", \"int32\"), \n",
    "        (\"dst\", \"int32\"),\n",
    "        (\"length\", \"float64\"),\n",
    "        ])\n",
    "\n",
    "gdf = cudf.read_csv(datafile, names=cols, dtype=list(dtypes.values()) ,skiprows=1)"
   ]
  },
  {
   "cell_type": "code",
   "execution_count": 9,
   "metadata": {},
   "outputs": [
    {
     "data": {
      "text/plain": [
       "<cudf.DataFrame ncols=3 nrows=7347806 >"
      ]
     },
     "execution_count": 9,
     "metadata": {},
     "output_type": "execute_result"
    }
   ],
   "source": [
    "gdf"
   ]
  },
  {
   "cell_type": "code",
   "execution_count": 10,
   "metadata": {},
   "outputs": [
    {
     "name": "stdout",
     "output_type": "stream",
     "text": [
      "    src  dst  length\n",
      "0   16   20   162.0\n",
      "1   20   16   162.0\n",
      "2   56   55   855.0\n",
      "3   55   56   855.0\n",
      "4   72   22   382.0\n",
      "5   22   72   382.0\n",
      "6   72   71   270.0\n",
      "7   71   72   270.0\n",
      "8   17   18    48.0\n",
      "9   18   17    48.0\n",
      "[7347796 more rows]\n"
     ]
    }
   ],
   "source": [
    "# Display the graph adjacency matrix\n",
    "print(gdf)"
   ]
  },
  {
   "cell_type": "code",
   "execution_count": 5,
   "metadata": {},
   "outputs": [],
   "source": [
    "# Need to shift the vertex IDs to start with zero rather than one (next version of cuGraph will fix this issue)\n",
    "gdf[\"src_0\"] = gdf[\"src\"] - 1\n",
    "gdf[\"dst_0\"] = gdf[\"dst\"] - 1"
   ]
  },
  {
   "cell_type": "code",
   "execution_count": 7,
   "metadata": {},
   "outputs": [
    {
     "data": {
      "text/plain": [
       "<cudf.DataFrame ncols=5 nrows=7347806 >"
      ]
     },
     "execution_count": 7,
     "metadata": {},
     "output_type": "execute_result"
    }
   ],
   "source": [
    "gdf"
   ]
  },
  {
   "cell_type": "code",
   "execution_count": 6,
   "metadata": {},
   "outputs": [
    {
     "name": "stdout",
     "output_type": "stream",
     "text": [
      "    src  dst  length  src_0  dst_0\n",
      "0   16   20   162.0     15     19\n",
      "1   20   16   162.0     19     15\n",
      "2   56   55   855.0     55     54\n",
      "3   55   56   855.0     54     55\n",
      "4   72   22   382.0     71     21\n",
      "5   22   72   382.0     21     71\n",
      "6   72   71   270.0     71     70\n",
      "7   71   72   270.0     70     71\n",
      "8   17   18    48.0     16     17\n",
      "9   18   17    48.0     17     16\n",
      "[7347796 more rows]\n"
     ]
    }
   ],
   "source": [
    "# Display the graph adjacency matrix\n",
    "print(gdf)"
   ]
  },
  {
   "cell_type": "markdown",
   "metadata": {},
   "source": [
    "### Create the Road Graph and call SSSP"
   ]
  },
  {
   "cell_type": "code",
   "execution_count": 31,
   "metadata": {},
   "outputs": [
    {
     "name": "stdout",
     "output_type": "stream",
     "text": [
      "CPU times: user 3.22 ms, sys: 1.9 ms, total: 5.12 ms\n",
      "Wall time: 5.11 ms\n"
     ]
    }
   ],
   "source": [
    "%%time\n",
    "# create a Graph \n",
    "G = cugraph.Graph()\n",
    "G.add_edge_list(gdf[\"src_0\"], gdf[\"dst_0\"],gdf['length'])"
   ]
  },
  {
   "cell_type": "code",
   "execution_count": 51,
   "metadata": {},
   "outputs": [
    {
     "name": "stdout",
     "output_type": "stream",
     "text": [
      "CPU times: user 1.81 s, sys: 893 ms, total: 2.71 s\n",
      "Wall time: 2.7 s\n"
     ]
    }
   ],
   "source": [
    "%%time\n",
    "# Call cugraph.sssp to get the distances from vertex 2225573 (Lusty Glaze Road, Newquay):\n",
    "df = cugraph.sssp(G,2225573)"
   ]
  },
  {
   "cell_type": "markdown",
   "metadata": {},
   "source": [
    "### Calculate 500 miles walking distance"
   ]
  },
  {
   "cell_type": "code",
   "execution_count": 59,
   "metadata": {},
   "outputs": [
    {
     "name": "stdout",
     "output_type": "stream",
     "text": [
      "    vertex  distance\n",
      "233618  233618  804672.0\n",
      "266641  266641  804672.0\n",
      "278509  278509  804672.0\n",
      "302535  302535  804672.0\n",
      "304584  304584  804672.0\n",
      "305391  305391  804672.0\n",
      "305553  305553  804672.0\n",
      "305556  305556  804672.0\n",
      "334746  334746  804672.0\n",
      "371325  371325  804672.0\n"
     ]
    }
   ],
   "source": [
    "# Calculate 500 miles distance (804672 metres)\n",
    "print(df.query(\"distance==804672.00\")[1:20])"
   ]
  },
  {
   "cell_type": "markdown",
   "metadata": {},
   "source": [
    "___\n",
    "Copyright (c) 2019, NVIDIA CORPORATION.\n",
    "\n",
    "Adapted by John Murray\n",
    "\n",
    "Licensed under the Apache License, Version 2.0 (the \"License\");  you may not use this file except in compliance with the License. You may obtain a copy of the License at http://www.apache.org/licenses/LICENSE-2.0\n",
    "\n",
    "Unless required by applicable law or agreed to in writing, software distributed under the License is distributed on an \"AS IS\" BASIS, WITHOUT WARRANTIES OR CONDITIONS OF ANY KIND, either express or implied. See the License for the specific language governing permissions and limitations under the License.\n",
    "___"
   ]
  }
 ],
 "metadata": {
  "kernelspec": {
   "display_name": "Python 3",
   "language": "python",
   "name": "python3"
  },
  "language_info": {
   "codemirror_mode": {
    "name": "ipython",
    "version": 3
   },
   "file_extension": ".py",
   "mimetype": "text/x-python",
   "name": "python",
   "nbconvert_exporter": "python",
   "pygments_lexer": "ipython3",
   "version": "3.7.3"
  }
 },
 "nbformat": 4,
 "nbformat_minor": 2
}
